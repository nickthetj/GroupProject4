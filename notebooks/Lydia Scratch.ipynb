{
 "cells": [
  {
   "cell_type": "code",
   "execution_count": 1,
   "metadata": {},
   "outputs": [],
   "source": [
    "from keras.preprocessing.image import ImageDataGenerator\n",
    "import tensorflow as tf\n",
    "import numpy as np\n",
    "import os\n",
    "from matplotlib import pyplot as plt\n",
    "from tensorflow.keras import datasets, layers, models"
   ]
  },
  {
   "cell_type": "code",
   "execution_count": 2,
   "metadata": {},
   "outputs": [
    {
     "name": "stdout",
     "output_type": "stream",
     "text": [
      "Found 3913 images belonging to 2 classes.\n",
      "Found 1303 images belonging to 2 classes.\n",
      "Found 624 images belonging to 2 classes.\n"
     ]
    }
   ],
   "source": [
    "train_data_dir = '../data/localdata/chest_xray/train'\n",
    "test_data_dir = '../data/localdata/chest_xray/test'\n",
    "\n",
    "generator =ImageDataGenerator(rescale=1/255, validation_split=.25)\n",
    "\n",
    "train_generator= generator.flow_from_directory(\n",
    "        train_data_dir, target_size=(64, 64), batch_size=32, color_mode='grayscale', subset='training', class_mode='binary')\n",
    "validation_set=generator.flow_from_directory(\n",
    "        train_data_dir, target_size=(64, 64), batch_size=32, color_mode='grayscale', subset='validation', class_mode='binary')\n",
    "test_generator = generator.flow_from_directory(\n",
    "        test_data_dir, target_size=(64, 64), batch_size=32, color_mode='grayscale', class_mode='binary')\n",
    "\n",
    "train_images, train_labels = next(train_generator)\n",
    "test_images, test_labels = next(test_generator)"
   ]
  },
  {
   "cell_type": "code",
   "execution_count": 3,
   "metadata": {},
   "outputs": [
    {
     "data": {
      "text/plain": [
       "(32, 64, 64, 1)"
      ]
     },
     "execution_count": 3,
     "metadata": {},
     "output_type": "execute_result"
    }
   ],
   "source": [
    "train_images.shape"
   ]
  },
  {
   "cell_type": "code",
   "execution_count": 4,
   "metadata": {},
   "outputs": [],
   "source": [
    "model = models.Sequential()\n",
    "model.add(layers.Conv2D(filters=32,\n",
    "                        kernel_size=(3, 3),\n",
    "                        activation='relu',\n",
    "                        input_shape=(64, 64, 1)))\n",
    "model.add(layers.MaxPooling2D(pool_size=(2, 2)))\n",
    "model.add(layers.Conv2D(64, (3, 3), activation='relu'))\n",
    "model.add(layers.MaxPooling2D((2, 2)))\n",
    "model.add(layers.Conv2D(64, (3, 3), activation='relu'))"
   ]
  },
  {
   "cell_type": "code",
   "execution_count": 5,
   "metadata": {},
   "outputs": [],
   "source": [
    "model.add(layers.Flatten())\n",
    "model.add(layers.Dense(64, activation='relu'))\n",
    "model.add(layers.Dense(1, activation='sigmoid'))"
   ]
  },
  {
   "cell_type": "code",
   "execution_count": 8,
   "metadata": {},
   "outputs": [],
   "source": [
    "from tensorflow.keras.losses import BinaryCrossentropy\n",
    "from tensorflow.keras.optimizers import Adam\n",
    "from tensorflow.keras.metrics import Precision\n",
    "#model.compile(optimizer=tf.keras.optimizers.Adam(),\n",
    "             # loss=tf.keras.losses.BinaryCrossentropy(),\n",
    "             # metrics=tf.keras.metrics.Precision())"
   ]
  },
  {
   "cell_type": "code",
   "execution_count": 9,
   "metadata": {
    "scrolled": true
   },
   "outputs": [
    {
     "name": "stdout",
     "output_type": "stream",
     "text": [
      "Epoch 1/10\n",
      "123/123 [==============================] - 124s 1s/step - loss: 0.2982 - precision: 0.8780 - val_loss: 0.1712 - val_precision: 0.9690\n",
      "Epoch 2/10\n",
      "123/123 [==============================] - 92s 747ms/step - loss: 0.1223 - precision: 0.9660 - val_loss: 0.1277 - val_precision: 0.9679\n",
      "Epoch 3/10\n",
      "123/123 [==============================] - 91s 737ms/step - loss: 0.0941 - precision: 0.9756 - val_loss: 0.1031 - val_precision: 0.9741\n",
      "Epoch 4/10\n",
      "123/123 [==============================] - 97s 788ms/step - loss: 0.0828 - precision: 0.9793 - val_loss: 0.0959 - val_precision: 0.9752\n",
      "Epoch 5/10\n",
      "123/123 [==============================] - 107s 871ms/step - loss: 0.0752 - precision: 0.9804 - val_loss: 0.1085 - val_precision: 0.9694\n",
      "Epoch 6/10\n",
      "123/123 [==============================] - 118s 962ms/step - loss: 0.0701 - precision: 0.9831 - val_loss: 0.1102 - val_precision: 0.9850\n",
      "Epoch 7/10\n",
      "123/123 [==============================] - 66s 536ms/step - loss: 0.0576 - precision: 0.9879 - val_loss: 0.0906 - val_precision: 0.9763\n",
      "Epoch 8/10\n",
      "123/123 [==============================] - 63s 514ms/step - loss: 0.0464 - precision: 0.9886 - val_loss: 0.1546 - val_precision: 0.9861\n",
      "Epoch 9/10\n",
      "123/123 [==============================] - 62s 507ms/step - loss: 0.0475 - precision: 0.9900 - val_loss: 0.0997 - val_precision: 0.9853\n",
      "Epoch 10/10\n",
      "123/123 [==============================] - 59s 484ms/step - loss: 0.0388 - precision: 0.9910 - val_loss: 0.1154 - val_precision: 0.9831\n"
     ]
    },
    {
     "data": {
      "text/plain": [
       "<tensorflow.python.keras.callbacks.History at 0x7f979cf93640>"
      ]
     },
     "execution_count": 9,
     "metadata": {},
     "output_type": "execute_result"
    }
   ],
   "source": [
    "#model.fit(train_generator, epochs=10, batch_size=200, validation_data=validation_set)"
   ]
  },
  {
   "cell_type": "code",
   "execution_count": 47,
   "metadata": {},
   "outputs": [
    {
     "name": "stdout",
     "output_type": "stream",
     "text": [
      "Epoch 10/10\n",
      "123/123 [==============================] - 59s 484ms/step - loss: 0.0388 - precision: 0.9910 - val_loss: 0.1154 - val_precision: 0.9831\n"
     ]
    }
   ],
   "source": [
    "print('''Epoch 10/10\n",
    "123/123 [==============================] - 59s 484ms/step - loss: 0.0388 - precision: 0.9910 - val_loss: 0.1154 - val_precision: 0.9831''')"
   ]
  },
  {
   "cell_type": "code",
   "execution_count": 44,
   "metadata": {},
   "outputs": [],
   "source": [
    "from tensorflow.keras.models import Sequential\n",
    "from tensorflow.keras.layers import Dense\n",
    "\n",
    "simple_model = models.Sequential()\n",
    "simple_model.add(layers.Flatten())\n",
    "simple_model.add(Dense(12, activation='relu'))\n",
    "simple_model.add(Dense(1, activation='sigmoid'))"
   ]
  },
  {
   "cell_type": "code",
   "execution_count": 49,
   "metadata": {},
   "outputs": [
    {
     "name": "stdout",
     "output_type": "stream",
     "text": [
      "Epoch 10/10\n",
      "123/123 [==============================] - 79s 643ms/step - loss: 0.1684 - precision_6: 0.9665 - val_loss: 0.1915 - val_precision_6: 0.9673\n"
     ]
    }
   ],
   "source": [
    "simple_model.compile(optimizer='Adam',\n",
    "              loss='BinaryCrossentropy',\n",
    "              metrics='Precision')\n",
    "                 \n",
    "#simple_model.fit(train_generator, epochs=10, validation_data=validation_set)\n",
    "print('''Epoch 10/10\n",
    "123/123 [==============================] - 79s 643ms/step - loss: 0.1684 - precision_6: 0.9665 - val_loss: 0.1915 - val_precision_6: 0.9673''')"
   ]
  },
  {
   "cell_type": "code",
   "execution_count": 51,
   "metadata": {},
   "outputs": [
    {
     "name": "stdout",
     "output_type": "stream",
     "text": [
      "Model: \"sequential_11\"\n",
      "_________________________________________________________________\n",
      "Layer (type)                 Output Shape              Param #   \n",
      "=================================================================\n",
      "flatten_4 (Flatten)          (None, None)              0         \n",
      "_________________________________________________________________\n",
      "dense_29 (Dense)             (None, 12)                49164     \n",
      "_________________________________________________________________\n",
      "dense_30 (Dense)             (None, 1)                 13        \n",
      "=================================================================\n",
      "Total params: 49,177\n",
      "Trainable params: 49,177\n",
      "Non-trainable params: 0\n",
      "_________________________________________________________________\n"
     ]
    }
   ],
   "source": [
    "simple_model.summary()"
   ]
  },
  {
   "cell_type": "code",
   "execution_count": 52,
   "metadata": {},
   "outputs": [],
   "source": [
    "model2 = models.Sequential()\n",
    "model2.add(layers.Conv2D(filters=32,\n",
    "                        kernel_size=(3, 3),\n",
    "                        activation='relu',\n",
    "                        input_shape=(64, 64, 1)))\n",
    "model2.add(layers.MaxPooling2D(pool_size=(2, 2)))\n",
    "model2.add(layers.Flatten())\n",
    "model2.add(layers.Dense(64, activation='relu'))\n",
    "model2.add(layers.Dense(1, activation='sigmoid'))\n",
    "\n",
    "model2.compile(optimizer='Adam',\n",
    "              loss='BinaryCrossentropy',\n",
    "              metrics='Precision')"
   ]
  },
  {
   "cell_type": "code",
   "execution_count": 53,
   "metadata": {
    "scrolled": true
   },
   "outputs": [
    {
     "name": "stdout",
     "output_type": "stream",
     "text": [
      "Epoch 1/10\n",
      "123/123 [==============================] - 95s 773ms/step - loss: 0.3095 - precision: 0.8957 - val_loss: 0.1604 - val_precision: 0.9316\n",
      "Epoch 2/10\n",
      "123/123 [==============================] - 99s 804ms/step - loss: 0.1101 - precision: 0.9713 - val_loss: 0.1779 - val_precision: 0.9057\n",
      "Epoch 3/10\n",
      "123/123 [==============================] - 107s 869ms/step - loss: 0.0797 - precision: 0.9788 - val_loss: 0.1271 - val_precision: 0.9381\n",
      "Epoch 4/10\n",
      "123/123 [==============================] - 140s 1s/step - loss: 0.0683 - precision: 0.9835 - val_loss: 0.1035 - val_precision: 0.9615\n",
      "Epoch 5/10\n",
      "123/123 [==============================] - 95s 773ms/step - loss: 0.0718 - precision: 0.9791 - val_loss: 0.0931 - val_precision: 0.9843\n",
      "Epoch 6/10\n",
      "123/123 [==============================] - 95s 776ms/step - loss: 0.0547 - precision: 0.9852 - val_loss: 0.0898 - val_precision: 0.9744\n",
      "Epoch 7/10\n",
      "123/123 [==============================] - 87s 710ms/step - loss: 0.0391 - precision: 0.9904 - val_loss: 0.1254 - val_precision: 0.9902\n",
      "Epoch 8/10\n",
      "123/123 [==============================] - 86s 698ms/step - loss: 0.0303 - precision: 0.9928 - val_loss: 0.1428 - val_precision: 0.9934\n",
      "Epoch 9/10\n",
      "123/123 [==============================] - 89s 727ms/step - loss: 0.0234 - precision: 0.9955 - val_loss: 0.1018 - val_precision: 0.9627\n",
      "Epoch 10/10\n",
      "123/123 [==============================] - 102s 829ms/step - loss: 0.0187 - precision: 0.9955 - val_loss: 0.0969 - val_precision: 0.9832\n"
     ]
    },
    {
     "data": {
      "text/plain": [
       "<tensorflow.python.keras.callbacks.History at 0x7f979f2962b0>"
      ]
     },
     "execution_count": 53,
     "metadata": {},
     "output_type": "execute_result"
    }
   ],
   "source": [
    "model2.fit(train_generator, epochs=10, validation_data=validation_set)"
   ]
  },
  {
   "cell_type": "code",
   "execution_count": 82,
   "metadata": {},
   "outputs": [
    {
     "name": "stdout",
     "output_type": "stream",
     "text": [
      "Epoch 1/10\n",
      "123/123 [==============================] - ETA: 0s - loss: 0.2670 - precision: 0.9004 - binary_accuracy: 0.8916INFO:tensorflow:Assets written to: ../data/localdata/chest_xray/BestCNNModel/assets\n",
      "123/123 [==============================] - 70s 565ms/step - loss: 0.2670 - precision: 0.9004 - binary_accuracy: 0.8916 - val_loss: 0.1395 - val_precision: 0.9620 - val_binary_accuracy: 0.9478\n",
      "Epoch 2/10\n",
      "123/123 [==============================] - ETA: 0s - loss: 0.1081 - precision: 0.9702 - binary_accuracy: 0.9599INFO:tensorflow:Assets written to: ../data/localdata/chest_xray/BestCNNModel/assets\n",
      "123/123 [==============================] - 101s 823ms/step - loss: 0.1081 - precision: 0.9702 - binary_accuracy: 0.9599 - val_loss: 0.1108 - val_precision: 0.9569 - val_binary_accuracy: 0.9563\n",
      "Epoch 3/10\n",
      "123/123 [==============================] - 75s 606ms/step - loss: 0.0887 - precision: 0.9766 - binary_accuracy: 0.9663 - val_loss: 0.1197 - val_precision: 0.9799 - val_binary_accuracy: 0.9524\n",
      "Epoch 4/10\n",
      "123/123 [==============================] - 93s 758ms/step - loss: 0.0744 - precision: 0.9811 - binary_accuracy: 0.9732 - val_loss: 0.1545 - val_precision: 0.9249 - val_binary_accuracy: 0.9348\n",
      "Epoch 5/10\n",
      "123/123 [==============================] - 81s 662ms/step - loss: 0.0713 - precision: 0.9808 - binary_accuracy: 0.9742 - val_loss: 0.1855 - val_precision: 0.9954 - val_binary_accuracy: 0.9256\n",
      "Epoch 00005: early stopping\n"
     ]
    }
   ],
   "source": [
    "from tensorflow.keras.callbacks import EarlyStopping\n",
    "from tensorflow.keras.metrics import BinaryAccuracy\n",
    "from tensorflow.keras.callbacks import ModelCheckpoint\n",
    "model3 = models.Sequential()\n",
    "model3.add(layers.Conv2D(filters=32,\n",
    "                        kernel_size=(3, 3),\n",
    "                        activation='relu',\n",
    "                        input_shape=(64, 64, 1)))\n",
    "model3.add(layers.MaxPooling2D(pool_size=(2, 2)))\n",
    "model3.add(layers.Flatten())\n",
    "model3.add(layers.Dense(64, activation='relu'))\n",
    "model3.add(layers.Dense(1, activation='sigmoid'))\n",
    "\n",
    "model3.compile(optimizer='Adam',\n",
    "              loss='BinaryCrossentropy',\n",
    "              metrics=['Precision', 'BinaryAccuracy'])\n",
    "\n",
    "early_stop = EarlyStopping(monitor='val_loss', min_delta=1e-8,\n",
    "                           verbose=1, patience=3,\n",
    "                           mode='min')\n",
    "checkpoint = ModelCheckpoint('../data/localdata/chest_xray/BestCNNModel', monitor='val_loss',\n",
    "    save_best_only= True)\n",
    "\n",
    "results = model3.fit(train_generator, epochs=10, validation_data=validation_set,\n",
    "                    callbacks=[early_stop, checkpoint])"
   ]
  },
  {
   "cell_type": "code",
   "execution_count": null,
   "metadata": {},
   "outputs": [],
   "source": []
  }
 ],
 "metadata": {
  "kernelspec": {
   "display_name": "Python (learn-env)",
   "language": "python",
   "name": "learn-env"
  },
  "language_info": {
   "codemirror_mode": {
    "name": "ipython",
    "version": 3
   },
   "file_extension": ".py",
   "mimetype": "text/x-python",
   "name": "python",
   "nbconvert_exporter": "python",
   "pygments_lexer": "ipython3",
   "version": "3.8.5"
  }
 },
 "nbformat": 4,
 "nbformat_minor": 4
}
