{
 "cells": [
  {
   "cell_type": "code",
   "execution_count": 1,
   "metadata": {},
   "outputs": [],
   "source": [
    "import tensorflow as tf\n",
    "from tensorflow.keras import datasets, layers, models\n",
    "from keras.preprocessing.image import ImageDataGenerator\n",
    "from tensorflow.keras.wrappers.scikit_learn import KerasClassifier\n",
    "import numpy as np\n",
    "import os"
   ]
  },
  {
   "cell_type": "code",
   "execution_count": 28,
   "metadata": {},
   "outputs": [
    {
     "name": "stdout",
     "output_type": "stream",
     "text": [
      "Found 3913 images belonging to 2 classes.\n",
      "Found 624 images belonging to 2 classes.\n",
      "Found 1303 images belonging to 2 classes.\n"
     ]
    }
   ],
   "source": [
    "# Directory path\n",
    "train_data_dir = '../data/chest_xray/train'\n",
    "test_data_dir = '../data/chest_xray/test'\n",
    "\n",
    "generator=ImageDataGenerator(rescale=1/255, validation_split=.25)\n",
    "\n",
    "# Get all the data in the directory data/validation (624 images), and reshape them\n",
    "train_set = generator.flow_from_directory(\n",
    "        train_data_dir, target_size=(64, 64), batch_size=32, color_mode= 'grayscale', subset='training', class_mode='binary')\n",
    "\n",
    "# Get all the data in the directory data/test (624 images), and reshape them\n",
    "test_set = generator.flow_from_directory(\n",
    "        test_data_dir, target_size=(64, 64), batch_size=32, color_mode= 'grayscale', class_mode='binary')\n",
    "\n",
    "# Get all the data in the directory data/train (5216 images), and reshape them\n",
    "validation_set = generator.flow_from_directory(\n",
    "        train_data_dir, target_size=(64, 64), batch_size=32, color_mode= 'grayscale', subset='validation',  class_mode='binary')\n",
    "\n",
    "\n",
    "\n",
    "# Create the datasets\n",
    "test_images, test_labels = next(test_set)\n",
    "train_images, train_labels = next(train_set)"
   ]
  },
  {
   "cell_type": "code",
   "execution_count": 3,
   "metadata": {},
   "outputs": [
    {
     "data": {
      "text/plain": [
       "(32, 64, 64, 1)"
      ]
     },
     "execution_count": 3,
     "metadata": {},
     "output_type": "execute_result"
    }
   ],
   "source": [
    "train_images.shape"
   ]
  },
  {
   "cell_type": "code",
   "execution_count": 11,
   "metadata": {},
   "outputs": [],
   "source": [
    "model = models.Sequential()\n",
    "model.add(layers.Conv2D(filters=32,\n",
    "                        kernel_size=(3, 3),\n",
    "                        activation='relu',\n",
    "                        input_shape=(64, 64, 1)))\n",
    "model.add(layers.MaxPooling2D(pool_size=(2, 2)))\n",
    "model.add(layers.Conv2D(64, (3, 3), activation='relu'))\n",
    "model.add(layers.MaxPooling2D((2, 2)))\n",
    "model.add(layers.Conv2D(64, (3, 3), activation='relu'))"
   ]
  },
  {
   "cell_type": "code",
   "execution_count": 13,
   "metadata": {},
   "outputs": [],
   "source": [
    "model.add(layers.Flatten())\n",
    "model.add(layers.Dense(64, activation = 'relu'))\n",
    "model.add(layers.Dense(12, activation = 'relu'))\n",
    "model.add(layers.Dense(1, activation = 'sigmoid'))"
   ]
  },
  {
   "cell_type": "code",
   "execution_count": 23,
   "metadata": {},
   "outputs": [],
   "source": [
    "from tensorflow.keras.losses import BinaryCrossentropy\n",
    "from tensorflow.keras.optimizers import Adam\n",
    "from tensorflow.keras.metrics import Precision\n",
    "model.compile(optimizer='Adam',\n",
    "             loss=\"BinaryCrossentropy\",\n",
    "             metrics=['Accuracy'])"
   ]
  },
  {
   "cell_type": "code",
   "execution_count": 24,
   "metadata": {
    "scrolled": true
   },
   "outputs": [
    {
     "name": "stdout",
     "output_type": "stream",
     "text": [
      "Epoch 1/10\n",
      "123/123 [==============================] - 37s 300ms/step - loss: 0.0060 - accuracy: 0.5351 - val_loss: 0.2186 - val_accuracy: 0.4981\n",
      "Epoch 2/10\n",
      "123/123 [==============================] - 37s 300ms/step - loss: 0.0175 - accuracy: 0.4176 - val_loss: 0.1283 - val_accuracy: 0.4351\n",
      "Epoch 3/10\n",
      "123/123 [==============================] - 36s 296ms/step - loss: 0.0043 - accuracy: 0.4705 - val_loss: 0.1616 - val_accuracy: 0.3983\n",
      "Epoch 4/10\n",
      "123/123 [==============================] - 36s 296ms/step - loss: 0.0010 - accuracy: 0.5029 - val_loss: 0.1536 - val_accuracy: 0.5226\n",
      "Epoch 5/10\n",
      "123/123 [==============================] - 37s 297ms/step - loss: 1.0954e-04 - accuracy: 0.5972 - val_loss: 0.1569 - val_accuracy: 0.5595\n",
      "Epoch 6/10\n",
      "123/123 [==============================] - 37s 297ms/step - loss: 5.6695e-05 - accuracy: 0.6087 - val_loss: 0.1619 - val_accuracy: 0.5787\n",
      "Epoch 7/10\n",
      "123/123 [==============================] - 37s 298ms/step - loss: 4.2130e-05 - accuracy: 0.6231 - val_loss: 0.1658 - val_accuracy: 0.5848\n",
      "Epoch 8/10\n",
      "123/123 [==============================] - 36s 293ms/step - loss: 3.3960e-05 - accuracy: 0.6353 - val_loss: 0.1686 - val_accuracy: 0.5886\n",
      "Epoch 9/10\n",
      "123/123 [==============================] - 36s 294ms/step - loss: 2.8269e-05 - accuracy: 0.6415 - val_loss: 0.1724 - val_accuracy: 0.5963\n",
      "Epoch 10/10\n",
      "123/123 [==============================] - 36s 294ms/step - loss: 2.3666e-05 - accuracy: 0.6496 - val_loss: 0.1751 - val_accuracy: 0.6002\n"
     ]
    },
    {
     "data": {
      "text/plain": [
       "<tensorflow.python.keras.callbacks.History at 0x24eeb037ca0>"
      ]
     },
     "execution_count": 24,
     "metadata": {},
     "output_type": "execute_result"
    }
   ],
   "source": [
    "model.fit(train_set, epochs=10, batch_size=200, validation_data=validation_set)"
   ]
  },
  {
   "cell_type": "code",
   "execution_count": 29,
   "metadata": {},
   "outputs": [
    {
     "name": "stdout",
     "output_type": "stream",
     "text": [
      "1/1 [==============================] - 0s 997us/step - loss: 5.8132 - accuracy: 0.5000\n"
     ]
    },
    {
     "data": {
      "text/plain": [
       "[5.813223838806152, 0.5]"
      ]
     },
     "execution_count": 29,
     "metadata": {},
     "output_type": "execute_result"
    }
   ],
   "source": [
    "model.evaluate(test_images, test_labels)"
   ]
  },
  {
   "cell_type": "code",
   "execution_count": null,
   "metadata": {},
   "outputs": [],
   "source": []
  }
 ],
 "metadata": {
  "kernelspec": {
   "display_name": "Python (learn-env)",
   "language": "python",
   "name": "learn-env"
  },
  "language_info": {
   "codemirror_mode": {
    "name": "ipython",
    "version": 3
   },
   "file_extension": ".py",
   "mimetype": "text/x-python",
   "name": "python",
   "nbconvert_exporter": "python",
   "pygments_lexer": "ipython3",
   "version": "3.8.5"
  }
 },
 "nbformat": 4,
 "nbformat_minor": 4
}
