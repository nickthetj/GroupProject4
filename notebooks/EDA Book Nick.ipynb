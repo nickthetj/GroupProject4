{
 "cells": [
  {
   "cell_type": "code",
   "execution_count": 1,
   "id": "855a92fb-2d30-42ea-8041-e54492cddc8b",
   "metadata": {},
   "outputs": [],
   "source": [
    "from keras.preprocessing.image import ImageDataGenerator\n",
    "from tensorflow.keras.utils import array_to_img, img_to_array, load_img\n",
    "from tensorflow.keras import datasets, layers, models\n",
    "from tensorflow.keras.losses import BinaryCrossentropy\n",
    "import tensorflow as tf\n",
    "import numpy as np\n",
    "import os"
   ]
  },
  {
   "cell_type": "code",
   "execution_count": 2,
   "id": "845b79f0-3274-49ac-a011-4baabc737d98",
   "metadata": {},
   "outputs": [],
   "source": [
    "original_size_img = (1664, 1128)\n",
    "half_size_img = (1177, 798)\n",
    "five_percent_size_img = (372, 252)"
   ]
  },
  {
   "cell_type": "code",
   "execution_count": 3,
   "id": "4f9cce40-5899-423b-838f-6ba34f93ee0f",
   "metadata": {},
   "outputs": [
    {
     "name": "stdout",
     "output_type": "stream",
     "text": [
      "NORMAL2-IM-1427-0001.jpeg NORMAL2-IM-1436-0001.jpeg NORMAL2-IM-1440-0001.jpeg\n",
      "NORMAL2-IM-1430-0001.jpeg NORMAL2-IM-1437-0001.jpeg NORMAL2-IM-1442-0001.jpeg\n",
      "NORMAL2-IM-1431-0001.jpeg NORMAL2-IM-1438-0001.jpeg\n"
     ]
    }
   ],
   "source": [
    "! ls ../data/localdata/chest_xray/val/NORMAL"
   ]
  },
  {
   "cell_type": "code",
   "execution_count": 4,
   "id": "bfb4df70-f082-41c5-a07b-45f3acc894e0",
   "metadata": {},
   "outputs": [
    {
     "name": "stdout",
     "output_type": "stream",
     "text": [
      "Found 3913 images belonging to 2 classes.\n",
      "Found 1303 images belonging to 2 classes.\n",
      "Found 624 images belonging to 2 classes.\n"
     ]
    }
   ],
   "source": [
    "# Directory path\n",
    "train_data_dir = '../data/localdata/chest_xray/train'\n",
    "test_data_dir = '../data/localdata/chest_xray/test'\n",
    "\n",
    "# Get all the data in the directory data/localdata/chest_xray/test (624 images), and reshape them\n",
    "generator = ImageDataGenerator(rescale=1/255, validation_split=0.25)\n",
    "\n",
    "train_set = generator.flow_from_directory(\n",
    "        train_data_dir, target_size=(372, 252), batch_size=32, color_mode='grayscale', subset='training', class_mode='binary')\n",
    "\n",
    "val_set =  test_set = generator.flow_from_directory(\n",
    "        train_data_dir, target_size=(372, 252), batch_size=32, color_mode='grayscale', subset='validation', class_mode='binary' )\n",
    "\n",
    "\n",
    "test_set = generator.flow_from_directory(\n",
    "        test_data_dir, target_size=(372, 252), batch_size=32, color_mode='grayscale', class_mode='binary')\n",
    "\n",
    "# Create the datasets\n",
    "train_images, train_labels = next(train_set)\n",
    "test_images, test_labels = next(test_set)"
   ]
  },
  {
   "cell_type": "markdown",
   "id": "686232b2-6d48-4ae2-8758-944570f351b7",
   "metadata": {},
   "source": [
    "## First Complicated Model"
   ]
  },
  {
   "cell_type": "code",
   "execution_count": 5,
   "id": "94b7026e-02fa-4db4-a4eb-26f477d6ff28",
   "metadata": {},
   "outputs": [
    {
     "name": "stdout",
     "output_type": "stream",
     "text": [
      "Metal device set to: Apple M1\n"
     ]
    },
    {
     "name": "stderr",
     "output_type": "stream",
     "text": [
      "2023-09-11 16:05:57.934019: I tensorflow/core/common_runtime/pluggable_device/pluggable_device_factory.cc:305] Could not identify NUMA node of platform GPU ID 0, defaulting to 0. Your kernel may not have been built with NUMA support.\n",
      "2023-09-11 16:05:57.934169: I tensorflow/core/common_runtime/pluggable_device/pluggable_device_factory.cc:271] Created TensorFlow device (/job:localhost/replica:0/task:0/device:GPU:0 with 0 MB memory) -> physical PluggableDevice (device: 0, name: METAL, pci bus id: <undefined>)\n"
     ]
    }
   ],
   "source": [
    "model = models.Sequential()\n",
    "model.add(layers.Conv2D(filters=32,\n",
    "                        kernel_size=(3, 3),\n",
    "                        activation='relu',\n",
    "                        input_shape=(372, 252, 1)))\n",
    "model.add(layers.MaxPooling2D(pool_size=(2, 2)))\n",
    "model.add(layers.Conv2D(64, (3, 3), activation='relu', kernel_regularizer=tf.keras.regularizers.l2(0.05)))\n",
    "# model.add(layers.MaxPooling2D((2, 2)))\n",
    "# model.add(layers.Conv2D(64, (3, 3), activation='relu', kernel_regularizer=tf.keras.regularizers.l2(0.05)))"
   ]
  },
  {
   "cell_type": "code",
   "execution_count": 6,
   "id": "f8570880-1fa9-43ad-b056-0d0d8d4ec86b",
   "metadata": {
    "scrolled": true
   },
   "outputs": [],
   "source": [
    "model.add(layers.Flatten())\n",
    "model.add(layers.Dense(64, activation='relu'))\n",
    "model.add(layers.Dense(1, activation='sigmoid'))"
   ]
  },
  {
   "cell_type": "code",
   "execution_count": 7,
   "id": "b554acd8-a35e-4d24-bf00-aeb75c94a847",
   "metadata": {},
   "outputs": [],
   "source": [
    "from tensorflow.keras.losses import BinaryCrossentropy\n",
    "from tensorflow.keras.optimizers import Adam\n",
    "from tensorflow.keras.metrics import Precision\n",
    "model.compile(optimizer='Adam',\n",
    "              loss='BinaryCrossentropy',\n",
    "              metrics='Accuracy')"
   ]
  },
  {
   "cell_type": "code",
   "execution_count": 8,
   "id": "bf3ff9b6-0f15-4b77-8d44-6e883d7dc36f",
   "metadata": {},
   "outputs": [
    {
     "name": "stdout",
     "output_type": "stream",
     "text": [
      "Epoch 1/10\n"
     ]
    },
    {
     "name": "stderr",
     "output_type": "stream",
     "text": [
      "2023-09-11 16:05:58.350701: W tensorflow/core/platform/profile_utils/cpu_utils.cc:128] Failed to get CPU frequency: 0 Hz\n",
      "2023-09-11 16:05:58.662837: I tensorflow/core/grappler/optimizers/custom_graph_optimizer_registry.cc:113] Plugin optimizer for device_type GPU is enabled.\n"
     ]
    },
    {
     "name": "stdout",
     "output_type": "stream",
     "text": [
      "123/123 [==============================] - ETA: 0s - loss: 1.9792 - Accuracy: 0.8400"
     ]
    },
    {
     "name": "stderr",
     "output_type": "stream",
     "text": [
      "2023-09-11 16:06:58.391511: I tensorflow/core/grappler/optimizers/custom_graph_optimizer_registry.cc:113] Plugin optimizer for device_type GPU is enabled.\n"
     ]
    },
    {
     "name": "stdout",
     "output_type": "stream",
     "text": [
      "123/123 [==============================] - 68s 546ms/step - loss: 1.9792 - Accuracy: 0.8400 - val_loss: 0.8219 - val_Accuracy: 0.8488\n",
      "Epoch 2/10\n",
      "123/123 [==============================] - 68s 553ms/step - loss: 0.4212 - Accuracy: 0.9494 - val_loss: 0.4190 - val_Accuracy: 0.8749\n",
      "Epoch 3/10\n",
      "123/123 [==============================] - 68s 552ms/step - loss: 0.2106 - Accuracy: 0.9578 - val_loss: 0.2440 - val_Accuracy: 0.9317\n",
      "Epoch 4/10\n",
      "123/123 [==============================] - 64s 516ms/step - loss: 0.1699 - Accuracy: 0.9550 - val_loss: 0.2141 - val_Accuracy: 0.9325\n",
      "Epoch 5/10\n",
      "123/123 [==============================] - 63s 506ms/step - loss: 0.1296 - Accuracy: 0.9668 - val_loss: 0.1454 - val_Accuracy: 0.9616\n",
      "Epoch 6/10\n",
      "123/123 [==============================] - 65s 528ms/step - loss: 0.1137 - Accuracy: 0.9693 - val_loss: 0.1883 - val_Accuracy: 0.9271\n",
      "Epoch 7/10\n",
      "123/123 [==============================] - 64s 516ms/step - loss: 0.1080 - Accuracy: 0.9714 - val_loss: 0.1778 - val_Accuracy: 0.9417\n",
      "Epoch 8/10\n",
      "123/123 [==============================] - 64s 517ms/step - loss: 0.1003 - Accuracy: 0.9739 - val_loss: 0.1355 - val_Accuracy: 0.9616\n",
      "Epoch 9/10\n",
      "123/123 [==============================] - 65s 523ms/step - loss: 0.1021 - Accuracy: 0.9721 - val_loss: 0.1235 - val_Accuracy: 0.9662\n",
      "Epoch 10/10\n",
      "123/123 [==============================] - 65s 523ms/step - loss: 0.0927 - Accuracy: 0.9757 - val_loss: 0.1540 - val_Accuracy: 0.9532\n"
     ]
    },
    {
     "data": {
      "text/plain": [
       "<keras.callbacks.History at 0x105a70c40>"
      ]
     },
     "execution_count": 8,
     "metadata": {},
     "output_type": "execute_result"
    }
   ],
   "source": [
    "model.fit(train_set, epochs=10, batch_size=200, validation_data=val_set, workers=5)"
   ]
  },
  {
   "cell_type": "code",
   "execution_count": 10,
   "id": "a707d55b-e70d-497e-84b1-5f28f25f3581",
   "metadata": {},
   "outputs": [
    {
     "name": "stdout",
     "output_type": "stream",
     "text": [
      "1/1 [==============================] - 1s 637ms/step - loss: 0.5046 - Accuracy: 0.8750\n"
     ]
    },
    {
     "data": {
      "text/plain": [
       "[0.50458163022995, 0.875]"
      ]
     },
     "execution_count": 10,
     "metadata": {},
     "output_type": "execute_result"
    }
   ],
   "source": [
    "model.evaluate(test_images, test_labels)"
   ]
  },
  {
   "cell_type": "markdown",
   "id": "09d977f6-2e47-4cde-bd81-91dbdd27d5a9",
   "metadata": {},
   "source": [
    "## Simple Model (Dense Layers)"
   ]
  },
  {
   "cell_type": "code",
   "execution_count": null,
   "id": "df2ff6fe-310f-42e8-973c-0d3810b6d028",
   "metadata": {},
   "outputs": [],
   "source": []
  },
  {
   "cell_type": "markdown",
   "id": "5a72e3b8-eacf-4cb1-805c-6f1bf78202c8",
   "metadata": {},
   "source": [
    "## Simple Model (CNN)"
   ]
  },
  {
   "cell_type": "code",
   "execution_count": null,
   "id": "0d023c60-a14b-42f6-ba9a-e5267487b551",
   "metadata": {},
   "outputs": [],
   "source": []
  }
 ],
 "metadata": {
  "kernelspec": {
   "display_name": "Python 3 (ipykernel)",
   "language": "python",
   "name": "python3"
  },
  "language_info": {
   "codemirror_mode": {
    "name": "ipython",
    "version": 3
   },
   "file_extension": ".py",
   "mimetype": "text/x-python",
   "name": "python",
   "nbconvert_exporter": "python",
   "pygments_lexer": "ipython3",
   "version": "3.9.16"
  }
 },
 "nbformat": 4,
 "nbformat_minor": 5
}
